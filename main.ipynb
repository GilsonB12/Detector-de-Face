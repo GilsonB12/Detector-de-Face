{
 "cells": [
  {
   "cell_type": "code",
   "execution_count": 1,
   "metadata": {},
   "outputs": [],
   "source": [
    "import cv2\n",
    "import mediapipe as mp"
   ]
  },
  {
   "cell_type": "markdown",
   "metadata": {},
   "source": [
    "# Detectar Faces\n",
    "Usando opencv para capturar webcam e usando mediapipe para detectar rostos.\n",
    "Quando detectar um rosto começa a gravar."
   ]
  },
  {
   "cell_type": "code",
   "execution_count": 9,
   "metadata": {},
   "outputs": [],
   "source": [
    "webcam = cv2.VideoCapture(0) #Iniciando webcam. Valor 0 para webcam padrão\n",
    "size = (640, 480) # tamanho do vídeo\n",
    "grava_video = cv2.VideoWriter('videoDetectado.avi', cv2.VideoWriter_fourcc(*'XVID'), 20, size) # Gravar vídeo\n",
    "srr = mp.solutions.face_detection # ssr = solução de reconhecimento de rosto. Usando o reconhecedor do miadiapipe\n",
    "rr = srr.FaceDetection() # rr = reconhecimento de rosto. Função que recebe o frame para reconhecer rostos.\n",
    "desenho = mp.solutions.drawing_utils # Desenhar o reconhecimento de rosto.\n",
    "\n",
    "while True:\n",
    "    verificador, frame = webcam.read() # recebendo os frames do vídeo. verificador recebe uma verificação e o frame recebe o frame do vídeo\n",
    "\n",
    "    if not verificador:\n",
    "        break\n",
    "    \n",
    "    lista_Rostos = rr.process(frame)\n",
    "\n",
    "    # verificando se existe algum rosto dentro de todos os frames e desenhando o rosto detectado\n",
    "    if lista_Rostos.detections:\n",
    "        for rosto in lista_Rostos.detections:\n",
    "            desenho.draw_detection(frame, rosto)\n",
    "            grava_video.write(frame) # Gravar vídeo quando detectar rosto\n",
    "\n",
    "    # ver a webcam funcionando\n",
    "    cv2.imshow('Rostos', frame)\n",
    "\n",
    "    # Parar quando apertar ESC\n",
    "    if cv2.waitKey(5) == 27:\n",
    "        break\n",
    "\n",
    "# desativando a webcam\n",
    "webcam.release()\n",
    "grava_video.release()\n",
    "cv2.destroyAllWindows()"
   ]
  },
  {
   "cell_type": "markdown",
   "metadata": {},
   "source": [
    "# Abrir Vídeo"
   ]
  },
  {
   "cell_type": "code",
   "execution_count": 11,
   "metadata": {},
   "outputs": [],
   "source": [
    "video = cv2.VideoCapture('videoDetectado.avi')\n",
    "\n",
    "while(video.isOpened()):\n",
    "    verificador_video, frame2 = video.read()\n",
    "    if verificador_video == True:\n",
    "        cv2.imshow('Video', frame2)\n",
    "        if cv2.waitKey(5) == 27:\n",
    "            break\n",
    "    if verificador_video == False:\n",
    "        break\n",
    "\n",
    "video.release()\n",
    "cv2.destroyAllWindows()"
   ]
  }
 ],
 "metadata": {
  "kernelspec": {
   "display_name": "Python 3",
   "language": "python",
   "name": "python3"
  },
  "language_info": {
   "codemirror_mode": {
    "name": "ipython",
    "version": 3
   },
   "file_extension": ".py",
   "mimetype": "text/x-python",
   "name": "python",
   "nbconvert_exporter": "python",
   "pygments_lexer": "ipython3",
   "version": "3.11.4"
  }
 },
 "nbformat": 4,
 "nbformat_minor": 2
}
